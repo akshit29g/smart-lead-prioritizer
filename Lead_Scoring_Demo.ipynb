# Lead_Scoring_Demo.ipynb

import pandas as pd
from email_verifier import verify_email
from lead_scoring import score_leads

# Sample data
data = pd.read_csv("sample_leads.csv")

# Verify emails
data["verified"] = data["email"].apply(verify_email)

# Score leads
data["score"] = data.apply(score_leads, axis=1)

# Display final result
data.head()
